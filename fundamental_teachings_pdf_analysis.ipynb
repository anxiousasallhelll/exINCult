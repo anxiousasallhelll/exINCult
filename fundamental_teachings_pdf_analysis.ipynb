{
 "cells": [
  {
   "cell_type": "code",
   "execution_count": 1,
   "id": "f93bb005",
   "metadata": {
    "scrolled": true
   },
   "outputs": [
    {
     "name": "stdout",
     "output_type": "stream",
     "text": [
      "Fundamental Beliefs\n",
      "of the\n",
      "Iglesia ni Cristo\n",
      "(Church of Christ)\n",
      "Series f989\n",
      "EnaNo G. MeNalo\n",
      "Iglesia ni Cristo\n",
      "Quezon Ctty, Phtltpplnes\n",
      "r99B\n"
     ]
    }
   ],
   "source": [
    "from PyPDF2 import PdfReader\n",
    "\n",
    "reader = PdfReader(\"teachings_of_exincult.pdf\")\n",
    "page = reader.pages[1] # Title\n",
    "print(page.extract_text())"
   ]
  },
  {
   "cell_type": "code",
   "execution_count": 2,
   "id": "0ff41d91",
   "metadata": {},
   "outputs": [
    {
     "name": "stdout",
     "output_type": "stream",
     "text": [
      "Introduction\n",
      "This book contains the lessons that should be\n",
      "used as guide forthe preachers ofthe Church of Christ\n",
      "(Iglesia ni Cristo) in teaching the fundamental doc-\n",
      "trines upheld by this Church. AII of these basic\n",
      "doctrines are written in the Bible or Holy Scriptures,\n",
      "which is the sole basis of our faith and serwice to God.\n",
      "The truths written in the Bible, which should be\n",
      "heard, understood, and believed by all men in order for\n",
      "them to attain eternal salvation, are introduced in the\n",
      "lessons contained herein.\n",
      "The teachings of God should be taught by the\n",
      "preachers of the Iglesia ni Cristo with complete clarity\n",
      "and fidelity - moved by pure intentions and filled with\n",
      "power - to people who have expressed their desire to be\n",
      "counted as members of the true Church which our\n",
      "Lord Jesus Christ will save.W\n",
      "Second Edltlon\n",
      "1998Eraflo G. Manalo\n",
      "Quezon City, PhiliPPinesr990\n"
     ]
    }
   ],
   "source": [
    "page = reader.pages[2] # Introduction\n",
    "print(page.extract_text())"
   ]
  },
  {
   "cell_type": "code",
   "execution_count": 3,
   "id": "3ae8377d",
   "metadata": {},
   "outputs": [
    {
     "name": "stdout",
     "output_type": "stream",
     "text": [
      "Lrusson.lVo.I The Bible\n",
      "IntroductionContents\n",
      "3 The Tfue Religion\n",
      "The True God\n",
      "5The Church of Christ\n",
      "The History of tJ:e Church Built\n",
      "6by Christ in the Fifst Century\n",
      "Proofs that the Apostasy of the\n",
      "First Church Took Place\n",
      "8Page1\n",
      "The Origin of Other Churches\n",
      "Not by Faith Only\n",
      "roOne Organized Church\n",
      "The Church of Christ\n",
      "I1in the Philippinest2\n",
      "Brother Felix Y. Manalo: God's\n",
      "t2Messenger in ttrese Last Days16\n",
      "The Promise for Those Who\n",
      "I3Endure Persecution24\n",
      "Membership in the\n",
      "t4Church of Christ33394348\n",
      "Ttrc t ord Jesus Christ\n",
      "(Part D54596368\n"
     ]
    }
   ],
   "source": [
    "page = reader.pages[3] # Table of Contents (First page)\n",
    "print(page.extract_text())"
   ]
  }
 ],
 "metadata": {
  "kernelspec": {
   "display_name": "Python 3 (ipykernel)",
   "language": "python",
   "name": "python3"
  },
  "language_info": {
   "codemirror_mode": {
    "name": "ipython",
    "version": 3
   },
   "file_extension": ".py",
   "mimetype": "text/x-python",
   "name": "python",
   "nbconvert_exporter": "python",
   "pygments_lexer": "ipython3",
   "version": "3.9.7"
  }
 },
 "nbformat": 4,
 "nbformat_minor": 5
}
